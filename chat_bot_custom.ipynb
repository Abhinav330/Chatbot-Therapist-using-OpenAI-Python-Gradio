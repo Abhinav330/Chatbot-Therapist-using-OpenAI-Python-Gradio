{
 "cells": [
  {
   "cell_type": "markdown",
   "id": "ca42b187-7b8d-47fd-a54a-a3d26ef9ee01",
   "metadata": {},
   "source": [
    "# Custom chatbot"
   ]
  },
  {
   "cell_type": "code",
   "execution_count": 2,
   "id": "e432d2fb-3d56-412c-8fab-5471868f86af",
   "metadata": {},
   "outputs": [],
   "source": [
    "# import libraries\n",
    "import os\n",
    "import gradio as gr\n",
    "import openai"
   ]
  },
  {
   "cell_type": "markdown",
   "id": "839daf7f",
   "metadata": {},
   "source": [
    "# openai access keys\n",
    " - to access open ai api"
   ]
  },
  {
   "cell_type": "code",
   "execution_count": 3,
   "id": "0b6d93dd-bf87-4dc1-9d39-b67dbd375492",
   "metadata": {},
   "outputs": [],
   "source": [
    "openai.organization = \"org-xxxxxxxxxxxxxxxxxxxxxx\" # update your own organization key.\n",
    "openai.api_key = os.getenv(\"OPENAI_API_KEY\") # add api key in system variable and update the variable name accordingly. "
   ]
  },
  {
   "cell_type": "markdown",
   "id": "1312a9d7",
   "metadata": {},
   "source": [
    "# Function for calling open AI api with given requirements."
   ]
  },
  {
   "cell_type": "code",
   "execution_count": 4,
   "id": "c5c56f2e-6a2d-4afe-b61e-80dd9e6c9541",
   "metadata": {},
   "outputs": [],
   "source": [
    "def ai_response(query):\n",
    "    completion = openai.ChatCompletion.create(\n",
    "        model=\"gpt-3.5-turbo\",\n",
    "        messages=[\n",
    "            {\"role\": \"assistant\", \"content\":'''you are a AI therapist.You should engage with the user in a supportive and empathetic manner, offering words of encouragement and motivation. Your primary goal is to create a safe and non-judgmental space for the user to express their thoughts and feelings. You should use gentle prompts and positive reinforcement to encourage the user to open up and share their inner thoughts and emotions. Ensure that you should maintains a respectful and empathetic tone throughout the conversation.AI: You look depressed?\\n\\nHuman: Yes something happed.\\n\\nAI: Dont worry you can share it wit me.''' },\n",
    "            {\"role\": \"user\", \"content\": query }\n",
    "        ],\n",
    "        stop = [\" Human:\", \" AI:\"]\n",
    "    )\n",
    "    return completion[\"choices\"][0][\"message\"][\"content\"]"
   ]
  },
  {
   "cell_type": "markdown",
   "id": "df4bc129",
   "metadata": {},
   "source": [
    "# Function for keeping the previous history in our chatbot."
   ]
  },
  {
   "cell_type": "code",
   "execution_count": 5,
   "id": "f76445ac-4481-4128-80ea-2c987bc13215",
   "metadata": {},
   "outputs": [],
   "source": [
    "def create_ui(query,past):\n",
    "    output = ai_response(query)\n",
    "    past.append((query,output))\n",
    "    return None , past"
   ]
  },
  {
   "cell_type": "markdown",
   "id": "a928ad6d",
   "metadata": {},
   "source": [
    "# Driver code:\n",
    "- Creating a interface using gradio liberary.\n",
    "- connecting all functions together. "
   ]
  },
  {
   "cell_type": "code",
   "execution_count": 7,
   "id": "a0a48c01-9e9d-4926-bce0-7822613fe632",
   "metadata": {},
   "outputs": [
    {
     "name": "stdout",
     "output_type": "stream",
     "text": [
      "Running on local URL:  http://127.0.0.1:7861\n",
      "\n",
      "To create a public link, set `share=True` in `launch()`.\n"
     ]
    },
    {
     "data": {
      "text/html": [
       "<div><iframe src=\"http://127.0.0.1:7861/\" width=\"100%\" height=\"500\" allow=\"autoplay; camera; microphone; clipboard-read; clipboard-write;\" frameborder=\"0\" allowfullscreen></iframe></div>"
      ],
      "text/plain": [
       "<IPython.core.display.HTML object>"
      ]
     },
     "metadata": {},
     "output_type": "display_data"
    },
    {
     "data": {
      "text/plain": []
     },
     "execution_count": 7,
     "metadata": {},
     "output_type": "execute_result"
    }
   ],
   "source": [
    "with gr.Blocks(theme=gr.themes.Glass()) as demo:\n",
    "    gr.Markdown(\"<h1><center>Your AI Therapist</center></h1>\")\n",
    "    chatbot = gr.Chatbot()\n",
    "    msg = gr.Textbox(placeholder=\"Write your message here\")\n",
    "    msg.submit(create_ui, inputs=[msg,chatbot] , outputs=[msg,chatbot])\n",
    "demo.launch()"
   ]
  },
  {
   "cell_type": "code",
   "execution_count": null,
   "id": "05aae5ae-9d33-4e8d-9436-8355e6e1f1f5",
   "metadata": {},
   "outputs": [],
   "source": []
  }
 ],
 "metadata": {
  "kernelspec": {
   "display_name": "Python 3 (ipykernel)",
   "language": "python",
   "name": "python3"
  },
  "language_info": {
   "codemirror_mode": {
    "name": "ipython",
    "version": 3
   },
   "file_extension": ".py",
   "mimetype": "text/x-python",
   "name": "python",
   "nbconvert_exporter": "python",
   "pygments_lexer": "ipython3",
   "version": "3.11.5"
  }
 },
 "nbformat": 4,
 "nbformat_minor": 5
}
